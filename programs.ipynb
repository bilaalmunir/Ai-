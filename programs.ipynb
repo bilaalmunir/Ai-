{
 "cells": [
  {
   "cell_type": "code",
   "execution_count": 3,
   "metadata": {},
   "outputs": [
    {
     "name": "stdout",
     "output_type": "stream",
     "text": [
      "o jeee helo\n"
     ]
    }
   ],
   "source": [
    "print(\"o jeee helo\")"
   ]
  },
  {
   "cell_type": "code",
   "execution_count": 4,
   "metadata": {},
   "outputs": [
    {
     "name": "stdout",
     "output_type": "stream",
     "text": [
      "bilaal\n",
      "22\n",
      "70123126\n",
      "l\n"
     ]
    }
   ],
   "source": [
    "list = [\"bilaal\", \"22\", \"70123126\"]\n",
    "for i in list:\n",
    "  print(i)\n",
    "print(list[0][2])"
   ]
  },
  {
   "cell_type": "markdown",
   "metadata": {},
   "source": [
    "function 1: "
   ]
  },
  {
   "cell_type": "code",
   "execution_count": 4,
   "metadata": {},
   "outputs": [
    {
     "name": "stdout",
     "output_type": "stream",
     "text": [
      "8\n",
      "None\n"
     ]
    }
   ],
   "source": [
    "def justPowerIt(b,e):\n",
    "    newVar = 1\n",
    "    for i in range(e):\n",
    "       # b *= b\n",
    "        newVar *= b\n",
    "    print(newVar)\n",
    "\n",
    "print(justPowerIt(2,3))"
   ]
  },
  {
   "cell_type": "code",
   "execution_count": null,
   "metadata": {},
   "outputs": [],
   "source": [
    "def subTotal(values):\n",
    "    newArray = [values[0],0,0,0,0]\n",
    "\n",
    "    a=0\n",
    "    for i in range (0, len(values)):\n",
    "        print(\"values ka index:\", values[i])\n",
    "        a= a + values[i]\n",
    "        \n",
    "        print(\"a ki value\", a)\n",
    "        for j in range (i, i+1):\n",
    "            newArray[j]=a\n",
    "            print(\"new array mein data jatay huvay;\",newArray[j])\n",
    "\n",
    "    for i in range(len(newArray)):\n",
    "        print(\"out come array:\",newArray[i])    \n",
    "\n",
    "sampleArray = [1,2,3,4,5]\n",
    "subTotal(sampleArray)\n"
   ]
  },
  {
   "cell_type": "code",
   "execution_count": null,
   "metadata": {},
   "outputs": [],
   "source": [
    "def findVariationsOfCharacters(charArray):\n",
    "    totalLenghtOfArray = len(charArray)\n",
    "    smallLetter=0\n",
    "    upperLetter=0\n",
    "    spaces = 0\n",
    "    for i in range(len(charArray)):\n",
    "        print(charArray[i])\n",
    "        if (charArray[i]!=charArray[i].lower()):\n",
    "            print(\"lower\")\n",
    "            smallLetter += 1\n",
    "        elif (charArray[i] != charArray[i].upper()):\n",
    "            print(\"upper\")\n",
    "            upperLetter += 1\n",
    "        else:\n",
    "            print(\"spaces\")\n",
    "            spaces += 1\n",
    "    print(\"small letters are:\" , smallLetter) \n",
    "    print(\"capital letters are:\" , upperLetter)\n",
    "    print(\"spaces are:\" , spaces)    \n",
    "    \n",
    "chararray = ['b','i','','L','A','l']\n",
    "findVariationsOfCharacters(chararray)"
   ]
  },
  {
   "cell_type": "code",
   "execution_count": null,
   "metadata": {},
   "outputs": [],
   "source": [
    "def findMedian(array1, array2):\n",
    "    #array3 = array1.concat(array2)\n",
    "    array3 = array1 + array2\n",
    "    print(\"array 3:\", array3)\n",
    "    array3.sort()\n",
    "    if(len(array3)%2 == 0):\n",
    "        a= len(array3)/2\n",
    "        a=int(a)\n",
    "        print(\"if k andar\",a)\n",
    "        firstNumber=  int(array3[a-1])\n",
    "        print(firstNumber)\n",
    "        secondNumber= int(array3[a])\n",
    "        print(secondNumber)\n",
    "        s = int(firstNumber +secondNumber)\n",
    "        print(s)\n",
    "        median= s/2\n",
    "        print(\"the median is : \", median)\n",
    "    else:\n",
    "        a= len(array3)/2\n",
    "        a=int(a)\n",
    "        print(\"else k andar\",a)\n",
    "        round(a)\n",
    "        median= array3[a]\n",
    "        print(\"the median is : \", median)\n",
    "\n",
    "arrayOne=[1,2]\n",
    "arrayTwo=[3,4]\n",
    "findMedian(arrayOne,arrayTwo)"
   ]
  },
  {
   "cell_type": "code",
   "execution_count": null,
   "metadata": {},
   "outputs": [],
   "source": [
    "c= \"kala shah kaku\"\n",
    "print(f\"city name:{c}\")"
   ]
  },
  {
   "cell_type": "code",
   "execution_count": null,
   "metadata": {},
   "outputs": [],
   "source": [
    "person= input(\"enter your name: \") \n",
    "father= input(\"enter your father's name: \") \n",
    "print(f\"person: {person} father: {father} \")\n",
    "print(person + father)"
   ]
  },
  {
   "cell_type": "code",
   "execution_count": null,
   "metadata": {},
   "outputs": [],
   "source": [
    "p = 2**3\n",
    "print(p)"
   ]
  },
  {
   "cell_type": "code",
   "execution_count": null,
   "metadata": {},
   "outputs": [],
   "source": [
    "for i in range(10,0,-1):\n",
    "  print(i)"
   ]
  },
  {
   "cell_type": "code",
   "execution_count": null,
   "metadata": {},
   "outputs": [],
   "source": [
    "a = [10,33,48,\"sample\"]\n",
    "for i in range(0,len(a)):\n",
    "  print(a[i])\n"
   ]
  },
  {
   "cell_type": "code",
   "execution_count": null,
   "metadata": {},
   "outputs": [],
   "source": [
    "def sumAndProduct(x,y,z):\n",
    "    sum = x+y+z\n",
    "    product = x*y*z\n",
    "    print(f\"the sum is {sum} and the product is {product}\")\n",
    "\n",
    "sumAndProduct(2,2,2)"
   ]
  },
  {
   "cell_type": "code",
   "execution_count": 65,
   "metadata": {},
   "outputs": [
    {
     "name": "stdout",
     "output_type": "stream",
     "text": [
      "A grade\n"
     ]
    }
   ],
   "source": [
    "def getGrades(numbers):\n",
    "    if(numbers >=45 and numbers <50):\n",
    "        print(\"D grade\")\n",
    "    elif(numbers >= 50 and  numbers < 60):\n",
    "        print(\"C grade\")\n",
    "    elif(numbers >=60 and numbers <80):\n",
    "        print(\"B grade\")\n",
    "    elif(numbers >= 80):\n",
    "        print(\"A grade\")          \n",
    "    else:\n",
    "        print(\"Failed!\")    \n",
    "     \n",
    "while True:\n",
    "    b = int(input(\"a number shouldnt be greater than 100 and smaller than 0\"))\n",
    "    if b>100 or b<0 :\n",
    "         b = int(input(\"a number shouldnt be greater than 100 and smaller than 0 again!\"))\n",
    "    else:\n",
    "        getGrades(b)\n",
    "        break"
   ]
  },
  {
   "cell_type": "code",
   "execution_count": 3,
   "metadata": {},
   "outputs": [
    {
     "name": "stdout",
     "output_type": "stream",
     "text": [
      "sum:  4\n"
     ]
    }
   ],
   "source": [
    "sum  = 0\n",
    "for i in range(1,5):\n",
    "    a= int(input(f\"enter {i} number:\"))\n",
    "    sum += a\n",
    "print(\"sum: \", sum)    "
   ]
  }
 ],
 "metadata": {
  "kernelspec": {
   "display_name": "Python 3",
   "language": "python",
   "name": "python3"
  },
  "language_info": {
   "codemirror_mode": {
    "name": "ipython",
    "version": 3
   },
   "file_extension": ".py",
   "mimetype": "text/x-python",
   "name": "python",
   "nbconvert_exporter": "python",
   "pygments_lexer": "ipython3",
   "version": "3.11.7"
  }
 },
 "nbformat": 4,
 "nbformat_minor": 2
}
