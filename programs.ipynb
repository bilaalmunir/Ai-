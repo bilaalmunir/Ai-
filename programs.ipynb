{
 "cells": [
  {
   "cell_type": "code",
   "execution_count": 3,
   "metadata": {},
   "outputs": [
    {
     "name": "stdout",
     "output_type": "stream",
     "text": [
      "o jeee helo\n"
     ]
    }
   ],
   "source": [
    "print(\"o jeee helo\")"
   ]
  },
  {
   "cell_type": "code",
   "execution_count": 4,
   "metadata": {},
   "outputs": [
    {
     "name": "stdout",
     "output_type": "stream",
     "text": [
      "bilaal\n",
      "22\n",
      "70123126\n",
      "l\n"
     ]
    }
   ],
   "source": [
    "list = [\"bilaal\", \"22\", \"70123126\"]\n",
    "for i in list:\n",
    "  print(i)\n",
    "print(list[0][2])"
   ]
  },
  {
   "cell_type": "markdown",
   "metadata": {},
   "source": [
    "function 1: "
   ]
  },
  {
   "cell_type": "code",
   "execution_count": 4,
   "metadata": {},
   "outputs": [
    {
     "name": "stdout",
     "output_type": "stream",
     "text": [
      "8\n",
      "None\n"
     ]
    }
   ],
   "source": [
    "def justPowerIt(b,e):\n",
    "    newVar = 1\n",
    "    for i in range(e):\n",
    "       # b *= b\n",
    "        newVar *= b\n",
    "    print(newVar)\n",
    "\n",
    "print(justPowerIt(2,3))"
   ]
  },
  {
   "cell_type": "code",
   "execution_count": 12,
   "metadata": {},
   "outputs": [
    {
     "name": "stdout",
     "output_type": "stream",
     "text": [
      "values ka index: 1\n",
      "a ki value 1\n",
      "values ka index: 2\n",
      "a ki value 3\n"
     ]
    },
    {
     "ename": "IndexError",
     "evalue": "list assignment index out of range",
     "output_type": "error",
     "traceback": [
      "\u001b[1;31m---------------------------------------------------------------------------\u001b[0m",
      "\u001b[1;31mIndexError\u001b[0m                                Traceback (most recent call last)",
      "Cell \u001b[1;32mIn[12], line 18\u001b[0m\n\u001b[0;32m     15\u001b[0m         \u001b[38;5;28mprint\u001b[39m(i)    \n\u001b[0;32m     17\u001b[0m sampleArray \u001b[38;5;241m=\u001b[39m [\u001b[38;5;241m1\u001b[39m,\u001b[38;5;241m2\u001b[39m,\u001b[38;5;241m3\u001b[39m,\u001b[38;5;241m4\u001b[39m,\u001b[38;5;241m5\u001b[39m]\n\u001b[1;32m---> 18\u001b[0m \u001b[43msubTotal\u001b[49m\u001b[43m(\u001b[49m\u001b[43msampleArray\u001b[49m\u001b[43m)\u001b[49m\n",
      "Cell \u001b[1;32mIn[12], line 11\u001b[0m, in \u001b[0;36msubTotal\u001b[1;34m(values)\u001b[0m\n\u001b[0;32m      9\u001b[0m     \u001b[38;5;28mprint\u001b[39m(\u001b[38;5;124m\"\u001b[39m\u001b[38;5;124ma ki value\u001b[39m\u001b[38;5;124m\"\u001b[39m, a)\n\u001b[0;32m     10\u001b[0m     \u001b[38;5;28;01mfor\u001b[39;00m j \u001b[38;5;129;01min\u001b[39;00m \u001b[38;5;28mrange\u001b[39m (\u001b[38;5;241m1\u001b[39m, i\u001b[38;5;241m+\u001b[39m\u001b[38;5;241m1\u001b[39m):\n\u001b[1;32m---> 11\u001b[0m         \u001b[43mnewArray\u001b[49m\u001b[43m[\u001b[49m\u001b[43mj\u001b[49m\u001b[43m]\u001b[49m\u001b[38;5;241m=\u001b[39ma\n\u001b[0;32m     12\u001b[0m         \u001b[38;5;28mprint\u001b[39m(\u001b[38;5;124m\"\u001b[39m\u001b[38;5;124mnew array mein data jatay huvay;\u001b[39m\u001b[38;5;124m\"\u001b[39m,newArray[j])\n\u001b[0;32m     14\u001b[0m \u001b[38;5;28;01mfor\u001b[39;00m i \u001b[38;5;129;01min\u001b[39;00m \u001b[38;5;28mrange\u001b[39m(\u001b[38;5;28mlen\u001b[39m(newArray)):\n",
      "\u001b[1;31mIndexError\u001b[0m: list assignment index out of range"
     ]
    }
   ],
   "source": [
    "def subTotal(values):\n",
    "    newArray = [values[0]]\n",
    "\n",
    "    a=0\n",
    "    for i in range (0, len(values)):\n",
    "        print(\"values ka index:\", values[i])\n",
    "        a= a + values[i]\n",
    "        \n",
    "        print(\"a ki value\", a)\n",
    "        for j in range (1, i+1):\n",
    "            newArray[j]=a\n",
    "            print(\"new array mein data jatay huvay;\",newArray[j])\n",
    "\n",
    "    for i in range(len(newArray)):\n",
    "        print(i)    \n",
    "\n",
    "sampleArray = [1,2,3,4,5]\n",
    "subTotal(sampleArray)\n"
   ]
  }
 ],
 "metadata": {
  "kernelspec": {
   "display_name": "Python 3",
   "language": "python",
   "name": "python3"
  },
  "language_info": {
   "codemirror_mode": {
    "name": "ipython",
    "version": 3
   },
   "file_extension": ".py",
   "mimetype": "text/x-python",
   "name": "python",
   "nbconvert_exporter": "python",
   "pygments_lexer": "ipython3",
   "version": "3.11.7"
  }
 },
 "nbformat": 4,
 "nbformat_minor": 2
}
