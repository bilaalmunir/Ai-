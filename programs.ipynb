{
 "cells": [
  {
   "cell_type": "code",
   "execution_count": 3,
   "metadata": {},
   "outputs": [
    {
     "name": "stdout",
     "output_type": "stream",
     "text": [
      "o jeee helo\n"
     ]
    }
   ],
   "source": [
    "print(\"o jeee helo\")"
   ]
  },
  {
   "cell_type": "code",
   "execution_count": 4,
   "metadata": {},
   "outputs": [
    {
     "name": "stdout",
     "output_type": "stream",
     "text": [
      "bilaal\n",
      "22\n",
      "70123126\n",
      "l\n"
     ]
    }
   ],
   "source": [
    "list = [\"bilaal\", \"22\", \"70123126\"]\n",
    "for i in list:\n",
    "  print(i)\n",
    "print(list[0][2])"
   ]
  },
  {
   "cell_type": "markdown",
   "metadata": {},
   "source": [
    "function 1: "
   ]
  },
  {
   "cell_type": "code",
   "execution_count": 4,
   "metadata": {},
   "outputs": [
    {
     "name": "stdout",
     "output_type": "stream",
     "text": [
      "8\n",
      "None\n"
     ]
    }
   ],
   "source": [
    "def justPowerIt(b,e):\n",
    "    newVar = 1\n",
    "    for i in range(e):\n",
    "       # b *= b\n",
    "        newVar *= b\n",
    "    print(newVar)\n",
    "\n",
    "print(justPowerIt(2,3))"
   ]
  },
  {
   "cell_type": "code",
   "execution_count": 19,
   "metadata": {},
   "outputs": [
    {
     "name": "stdout",
     "output_type": "stream",
     "text": [
      "values ka index: 1\n",
      "a ki value 1\n",
      "new array mein data jatay huvay; 1\n",
      "values ka index: 2\n",
      "a ki value 3\n",
      "new array mein data jatay huvay; 3\n",
      "values ka index: 3\n",
      "a ki value 6\n",
      "new array mein data jatay huvay; 6\n",
      "values ka index: 4\n",
      "a ki value 10\n",
      "new array mein data jatay huvay; 10\n",
      "values ka index: 5\n",
      "a ki value 15\n",
      "new array mein data jatay huvay; 15\n",
      "out come array: 1\n",
      "out come array: 3\n",
      "out come array: 6\n",
      "out come array: 10\n",
      "out come array: 15\n"
     ]
    }
   ],
   "source": [
    "def subTotal(values):\n",
    "    newArray = [values[0],0,0,0,0]\n",
    "\n",
    "    a=0\n",
    "    for i in range (0, len(values)):\n",
    "        print(\"values ka index:\", values[i])\n",
    "        a= a + values[i]\n",
    "        \n",
    "        print(\"a ki value\", a)\n",
    "        for j in range (i, i+1):\n",
    "            newArray[j]=a\n",
    "            print(\"new array mein data jatay huvay;\",newArray[j])\n",
    "\n",
    "    for i in range(len(newArray)):\n",
    "        print(\"out come array:\",newArray[i])    \n",
    "\n",
    "sampleArray = [1,2,3,4,5]\n",
    "subTotal(sampleArray)\n"
   ]
  },
  {
   "cell_type": "code",
   "execution_count": null,
   "metadata": {},
   "outputs": [],
   "source": [
    "def findVariationsOfCharacters(charArray):\n",
    "    for i in range(len(charArray)):\n",
    "        "
   ]
  }
 ],
 "metadata": {
  "kernelspec": {
   "display_name": "Python 3",
   "language": "python",
   "name": "python3"
  },
  "language_info": {
   "codemirror_mode": {
    "name": "ipython",
    "version": 3
   },
   "file_extension": ".py",
   "mimetype": "text/x-python",
   "name": "python",
   "nbconvert_exporter": "python",
   "pygments_lexer": "ipython3",
   "version": "3.11.7"
  }
 },
 "nbformat": 4,
 "nbformat_minor": 2
}
