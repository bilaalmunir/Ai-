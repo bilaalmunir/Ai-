{
 "cells": [
  {
   "cell_type": "code",
   "execution_count": 3,
   "metadata": {},
   "outputs": [
    {
     "name": "stdout",
     "output_type": "stream",
     "text": [
      "o jeee helo\n"
     ]
    }
   ],
   "source": [
    "print(\"o jeee helo\")"
   ]
  },
  {
   "cell_type": "code",
   "execution_count": 4,
   "metadata": {},
   "outputs": [
    {
     "name": "stdout",
     "output_type": "stream",
     "text": [
      "bilaal\n",
      "22\n",
      "70123126\n",
      "l\n"
     ]
    }
   ],
   "source": [
    "list = [\"bilaal\", \"22\", \"70123126\"]\n",
    "for i in list:\n",
    "  print(i)\n",
    "print(list[0][2])"
   ]
  },
  {
   "cell_type": "markdown",
   "metadata": {},
   "source": [
    "function 1: "
   ]
  },
  {
   "cell_type": "code",
   "execution_count": 4,
   "metadata": {},
   "outputs": [
    {
     "name": "stdout",
     "output_type": "stream",
     "text": [
      "8\n",
      "None\n"
     ]
    }
   ],
   "source": [
    "def justPowerIt(b,e):\n",
    "    newVar = 1\n",
    "    for i in range(e):\n",
    "       # b *= b\n",
    "        newVar *= b\n",
    "    print(newVar)\n",
    "\n",
    "print(justPowerIt(2,3))"
   ]
  },
  {
   "cell_type": "code",
   "execution_count": 19,
   "metadata": {},
   "outputs": [
    {
     "name": "stdout",
     "output_type": "stream",
     "text": [
      "values ka index: 1\n",
      "a ki value 1\n",
      "new array mein data jatay huvay; 1\n",
      "values ka index: 2\n",
      "a ki value 3\n",
      "new array mein data jatay huvay; 3\n",
      "values ka index: 3\n",
      "a ki value 6\n",
      "new array mein data jatay huvay; 6\n",
      "values ka index: 4\n",
      "a ki value 10\n",
      "new array mein data jatay huvay; 10\n",
      "values ka index: 5\n",
      "a ki value 15\n",
      "new array mein data jatay huvay; 15\n",
      "out come array: 1\n",
      "out come array: 3\n",
      "out come array: 6\n",
      "out come array: 10\n",
      "out come array: 15\n"
     ]
    }
   ],
   "source": [
    "def subTotal(values):\n",
    "    newArray = [values[0],0,0,0,0]\n",
    "\n",
    "    a=0\n",
    "    for i in range (0, len(values)):\n",
    "        print(\"values ka index:\", values[i])\n",
    "        a= a + values[i]\n",
    "        \n",
    "        print(\"a ki value\", a)\n",
    "        for j in range (i, i+1):\n",
    "            newArray[j]=a\n",
    "            print(\"new array mein data jatay huvay;\",newArray[j])\n",
    "\n",
    "    for i in range(len(newArray)):\n",
    "        print(\"out come array:\",newArray[i])    \n",
    "\n",
    "sampleArray = [1,2,3,4,5]\n",
    "subTotal(sampleArray)\n"
   ]
  },
  {
   "cell_type": "code",
   "execution_count": 34,
   "metadata": {},
   "outputs": [
    {
     "name": "stdout",
     "output_type": "stream",
     "text": [
      "b\n",
      "upper\n",
      "i\n",
      "upper\n",
      "\n",
      "spaces\n",
      "L\n",
      "lower\n",
      "A\n",
      "lower\n",
      "l\n",
      "upper\n",
      "small letters are: 2\n",
      "capital letters are: 3\n",
      "spaces are: 1\n"
     ]
    }
   ],
   "source": [
    "def findVariationsOfCharacters(charArray):\n",
    "    totalLenghtOfArray = len(charArray)\n",
    "    smallLetter=0\n",
    "    upperLetter=0\n",
    "    spaces = 0\n",
    "    for i in range(len(charArray)):\n",
    "        print(charArray[i])\n",
    "        if (charArray[i]!=charArray[i].lower()):\n",
    "            print(\"lower\")\n",
    "            smallLetter += 1\n",
    "        elif (charArray[i] != charArray[i].upper()):\n",
    "            print(\"upper\")\n",
    "            upperLetter += 1\n",
    "        else:\n",
    "            print(\"spaces\")\n",
    "            spaces += 1\n",
    "    print(\"small letters are:\" , smallLetter) \n",
    "    print(\"capital letters are:\" , upperLetter)\n",
    "    print(\"spaces are:\" , spaces)    \n",
    "    \n",
    "chararray = ['b','i','','L','A','l']\n",
    "findVariationsOfCharacters(chararray)"
   ]
  },
  {
   "cell_type": "code",
   "execution_count": 56,
   "metadata": {},
   "outputs": [
    {
     "name": "stdout",
     "output_type": "stream",
     "text": [
      "array 3: [1, 2, 3, 4]\n",
      "if k andar 2\n",
      "2\n",
      "3\n",
      "5\n",
      "the median is :  2.5\n"
     ]
    }
   ],
   "source": [
    "def findMedian(array1, array2):\n",
    "    #array3 = array1.concat(array2)\n",
    "    array3 = array1 + array2\n",
    "    print(\"array 3:\", array3)\n",
    "    array3.sort()\n",
    "    if(len(array3)%2 == 0):\n",
    "        a= len(array3)/2\n",
    "        a=int(a)\n",
    "        print(\"if k andar\",a)\n",
    "        firstNumber=  int(array3[a-1])\n",
    "        print(firstNumber)\n",
    "        secondNumber= int(array3[a])\n",
    "        print(secondNumber)\n",
    "        s = int(firstNumber +secondNumber)\n",
    "        print(s)\n",
    "        median= s/2\n",
    "        print(\"the median is : \", median)\n",
    "    else:\n",
    "        a= len(array3)/2\n",
    "        a=int(a)\n",
    "        print(\"else k andar\",a)\n",
    "        round(a)\n",
    "        median= array3[a]\n",
    "        print(\"the median is : \", median)\n",
    "\n",
    "arrayOne=[1,2]\n",
    "arrayTwo=[3,4]\n",
    "findMedian(arrayOne,arrayTwo)"
   ]
  },
  {
   "cell_type": "code",
   "execution_count": null,
   "metadata": {},
   "outputs": [],
   "source": [
    "c= \"kala shah kaku\"\n",
    "print(f\"city name:{c}\")"
   ]
  },
  {
   "cell_type": "code",
   "execution_count": null,
   "metadata": {},
   "outputs": [],
   "source": [
    "person= input(\"enter your name: \") \n",
    "father= input(\"enter your father's name: \") \n",
    "print(f\"person: {person} father: {father} \")\n",
    "print(person + father)"
   ]
  },
  {
   "cell_type": "code",
   "execution_count": null,
   "metadata": {},
   "outputs": [],
   "source": [
    "p = 2**3\n",
    "print(p)"
   ]
  },
  {
   "cell_type": "code",
   "execution_count": null,
   "metadata": {},
   "outputs": [],
   "source": [
    "for i in range(10,0,-1):\n",
    "  print(i)"
   ]
  },
  {
   "cell_type": "code",
   "execution_count": null,
   "metadata": {},
   "outputs": [],
   "source": [
    "a = [10,33,48,\"sample\"]\n",
    "for i in range(0,len(a)):\n",
    "  print(a[i])\n"
   ]
  },
  {
   "cell_type": "code",
   "execution_count": 57,
   "metadata": {},
   "outputs": [
    {
     "name": "stdout",
     "output_type": "stream",
     "text": [
      "the sum is 6 and the product is 8\n"
     ]
    }
   ],
   "source": [
    "def sumAndProduct(x,y,z):\n",
    "    sum = x+y+z\n",
    "    product = x*y*z\n",
    "    print(f\"the sum is {sum} and the product is {product}\")\n",
    "\n",
    "sumAndProduct(2,2,2)"
   ]
  }
 ],
 "metadata": {
  "kernelspec": {
   "display_name": "Python 3",
   "language": "python",
   "name": "python3"
  },
  "language_info": {
   "codemirror_mode": {
    "name": "ipython",
    "version": 3
   },
   "file_extension": ".py",
   "mimetype": "text/x-python",
   "name": "python",
   "nbconvert_exporter": "python",
   "pygments_lexer": "ipython3",
   "version": "3.11.7"
  }
 },
 "nbformat": 4,
 "nbformat_minor": 2
}
